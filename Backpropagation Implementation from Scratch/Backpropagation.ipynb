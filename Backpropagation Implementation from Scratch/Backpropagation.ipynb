{
 "cells": [
  {
   "cell_type": "code",
   "execution_count": 1,
   "metadata": {
    "id": "TV2YgxKwEPg3"
   },
   "outputs": [],
   "source": [
    "import pickle\n",
    "import numpy as np\n",
    "from tqdm import tqdm\n",
    "import matplotlib.pyplot as plt\n",
    "import math\n",
    "from tqdm import tqdm\n",
    "import matplotlib.pyplot as plt"
   ]
  },
  {
   "cell_type": "code",
   "execution_count": 2,
   "metadata": {
    "colab": {
     "base_uri": "https://localhost:8080/"
    },
    "id": "j7dAsNUEEsFK",
    "outputId": "8a6ed3d3-e19c-4657-9d24-e42427a69fe1"
   },
   "outputs": [
    {
     "name": "stdout",
     "output_type": "stream",
     "text": [
      "Drive already mounted at /gdrive; to attempt to forcibly remount, call drive.mount(\"/gdrive\", force_remount=True).\n",
      "/gdrive\n"
     ]
    }
   ],
   "source": [
    "from google.colab import drive\n",
    "drive.mount('/gdrive')\n",
    "%cd /gdrive"
   ]
  },
  {
   "cell_type": "markdown",
   "metadata": {
    "id": "MTKDgfd0FOwl"
   },
   "source": [
    "# <font color='red'>Backpropagation</font>"
   ]
  },
  {
   "cell_type": "markdown",
   "metadata": {
    "id": "i-cTzVhEFSMp"
   },
   "source": [
    "\n",
    "In this assignment, you will implement Backpropagation from scratch. You will then verify the correctness of the your implementation using a \"grader\" function/cell (provided by us) which will match your implmentation.\n",
    "\n",
    "The grader fucntion would help you validate the correctness of your code. "
   ]
  },
  {
   "cell_type": "markdown",
   "metadata": {
    "id": "b-flibDoFMEn"
   },
   "source": [
    "## <font color='red'>Loading data </font>"
   ]
  },
  {
   "cell_type": "code",
   "execution_count": 3,
   "metadata": {
    "colab": {
     "base_uri": "https://localhost:8080/"
    },
    "id": "5HyRwQ3AEnil",
    "outputId": "8a04db4f-1310-47b6-b6be-7bd3a9840da6"
   },
   "outputs": [
    {
     "name": "stdout",
     "output_type": "stream",
     "text": [
      "(506, 6)\n",
      "(506, 5) (506,)\n"
     ]
    }
   ],
   "source": [
    "file = r'/gdrive/MyDrive/Colab Notebooks/Datasets/Backpropagation/data.pkl'\n",
    "\n",
    "with open(file, 'rb') as f:\n",
    "    data = pickle.load(f)\n",
    "    \n",
    "print(data.shape)\n",
    "X = data[:, :5]\n",
    "y = data[:, -1]\n",
    "print(X.shape, y.shape)"
   ]
  },
  {
   "cell_type": "markdown",
   "metadata": {
    "id": "JC7eyTofFVP5"
   },
   "source": [
    "# <font color='red'>Computational graph</font>"
   ]
  },
  {
   "cell_type": "markdown",
   "metadata": {
    "id": "oh22VNI-FWsr"
   },
   "source": [
    "<img src='https://i.imgur.com/seSGbNS.png'>"
   ]
  },
  {
   "cell_type": "markdown",
   "metadata": {
    "id": "MFqqoocOFcJY"
   },
   "source": [
    "## <font color='red'>Task 1: Implementing Forward propagation, Backpropagation and Gradient checking </font>"
   ]
  },
  {
   "cell_type": "markdown",
   "metadata": {
    "id": "vS1IqD3bFgjN"
   },
   "source": [
    "\n",
    "*  <b>\n",
    "    Forward propagation</b>(Write your code in<font color='blue'> def forward_propagation()</b></font>)<br><br>\n",
    "    For easy debugging, we will break the computational graph into 3 parts.\n",
    "\n",
    "    <font color='green'><b>Part 1</b></font></b>\n",
    "    <img src='https://i.imgur.com/0xUaxy6.png'><br><br>\n",
    "    <font color='green'><b>Part 2</b></font></b><br>\n",
    "    <img src='https://i.imgur.com/J29pAJL.png'><br><br>\n",
    "    <font color='green'><b>Part 3</b></font></b>\n",
    "    <img src='https://i.imgur.com/vMyCsd9.png'>"
   ]
  },
  {
   "cell_type": "code",
   "execution_count": 4,
   "metadata": {
    "colab": {
     "base_uri": "https://localhost:8080/"
    },
    "id": "ExAdIsTbFdvL",
    "outputId": "8b4de7d5-f667-4c2d-952d-fd8352c615dd"
   },
   "outputs": [
    {
     "data": {
      "text/plain": [
       "True"
      ]
     },
     "execution_count": 4,
     "metadata": {},
     "output_type": "execute_result"
    }
   ],
   "source": [
    "#sigmoid\n",
    "\n",
    "def sigmoid(z):\n",
    "  sig = 1 / (1 + np.exp(-z))\n",
    "  return sig\n",
    "\n",
    "def grader_sigmoid(z):\n",
    "  #if you have written the code correctly then the grader function will output true\n",
    "  val=sigmoid(z)\n",
    "  assert(val==0.8807970779778823)\n",
    "  return True\n",
    "  \n",
    "grader_sigmoid(2)"
   ]
  },
  {
   "cell_type": "code",
   "execution_count": 5,
   "metadata": {
    "id": "FTjxPzmvcRsl"
   },
   "outputs": [],
   "source": [
    "def forward_propagation(x, y, w):\n",
    "\n",
    "  #part_1\n",
    "  val_1= (w[0]*x[0]+w[1]*x[1]) * (w[0]*x[0]+w[1]*x[1]) + w[5]\n",
    "  part_1 = np.exp(val_1)\n",
    "\n",
    "  #part_2\n",
    "  part_2 = np.tanh(part_1 + w[6])\n",
    "\n",
    "  #part_3\n",
    "  part_3 = sigmoid((math.sin(w[2]*x[2]) * ((w[3]*x[3])+(w[4]*x[4]))) + w[7] )\n",
    "\n",
    "  #Y_pred\n",
    "  y_pred = part_2 + (part_3 * w[8])\n",
    "\n",
    "  # compute derivative of L  w.r.to y' and store it in dy_pred\n",
    "  dy_pred = -2 * (y - y_pred)\n",
    "\n",
    "  #compute the value of L=(y-y')^2 and store it in variable loss\n",
    "  loss = (y - y_pred)**2\n",
    "\n",
    "  # Create a dictionary to store all the intermediate values i.e. dy_pred ,loss,exp,tanh,sigmoid\n",
    "  forward_dict={}\n",
    "\n",
    "  forward_dict['exp']= part_1\n",
    "  forward_dict['sigmoid'] = part_3\n",
    "  forward_dict['tanh'] = part_2\n",
    "  forward_dict['dy_pred'] = dy_pred\n",
    "  forward_dict['loss'] = loss\n",
    "  \n",
    "  return forward_dict"
   ]
  },
  {
   "cell_type": "code",
   "execution_count": 6,
   "metadata": {
    "colab": {
     "base_uri": "https://localhost:8080/"
    },
    "id": "6LDdLe-tdAPn",
    "outputId": "4129f461-25a3-4a09-9141-acd32e678730"
   },
   "outputs": [
    {
     "data": {
      "text/plain": [
       "True"
      ]
     },
     "execution_count": 6,
     "metadata": {},
     "output_type": "execute_result"
    }
   ],
   "source": [
    "def grader_forwardprop(data):\n",
    "    dl = (data['dy_pred']==-1.9285278284819143)\n",
    "    loss=(data['loss']==0.9298048963072919)\n",
    "    part1=(data['exp']==1.1272967040973583)\n",
    "    part2=(data['tanh']==0.8417934192562146)\n",
    "    part3=(data['sigmoid']==0.5279179387419721)\n",
    "    assert(dl and loss and part1 and part2 and part3)\n",
    "    return True\n",
    "\n",
    "w=np.ones(9)*0.1\n",
    "\n",
    "d1=forward_propagation(X[0],y[0],w)\n",
    "\n",
    "grader_forwardprop(d1)"
   ]
  },
  {
   "cell_type": "markdown",
   "metadata": {
    "id": "3emz20ZAgir9"
   },
   "source": [
    "### <font color='red'>Task 1.2 </font>"
   ]
  },
  {
   "cell_type": "markdown",
   "metadata": {
    "id": "y55eTV_tApcT"
   },
   "source": [
    "    From above figure **Y_pred** can be written as \n",
    "\n",
    "      y_pred = Branch_1 + Branch_2\n",
    "\n",
    "    where,\n",
    "\n",
    "      - Branch_1 = tanh{[exp(((w1x1+w2x2)^2)+w5)]+w7}\n",
    "\n",
    "      - Branch_2 = {sigmoid[(sin(w3x3)*((w4x4)+(w5x5)))+w8]} * w9 \n",
    "\n",
    "\n",
    "    - w1, w2, w5, w7 belong to branch_1\n",
    "\n",
    "    - w3, w4, w5, w8, w9 belong to branch_2"
   ]
  },
  {
   "cell_type": "markdown",
   "metadata": {
    "id": "0AzI2GehwJ0G"
   },
   "source": [
    "#### **Backward propagation**"
   ]
  },
  {
   "cell_type": "code",
   "execution_count": 7,
   "metadata": {
    "id": "_tJTLqdogfg8"
   },
   "outputs": [],
   "source": [
    "def backward_propagation(x,w,dictt):\n",
    "\n",
    "  data  = dictt\n",
    "\n",
    "  #dl/dw9\n",
    "  dw9 = data['dy_pred'] * data['sigmoid']\n",
    "\n",
    "  #dl/dw8\n",
    "  dw8 = data['dy_pred'] * (data['sigmoid'] *(1 - data['sigmoid']) * w[8])\n",
    "\n",
    "  #dl/dw7\n",
    "  dw7 = data['dy_pred'] * (1 - (data['tanh'])**2)\n",
    "\n",
    "  #dl/dw6\n",
    "  dw6 = data['dy_pred'] * (1 - (data['tanh'])**2) * data['exp']\n",
    "\n",
    "  #dl/dw5\n",
    "  dw5 = data['dy_pred'] * (data['sigmoid'] * (1 - data['sigmoid']) * w[8]) * (math.sin(x[2]*w[2])*x[4])\n",
    "\n",
    "  #dl/dw4\n",
    "  dw4 = data['dy_pred'] * (data['sigmoid'] * (1 - data['sigmoid']) * w[8]) * (math.sin(x[2]*w[2])*x[3])\n",
    "\n",
    "  #dl/dw3\n",
    "  dw3 = data['dy_pred'] * (data['sigmoid'] * (1 - data['sigmoid']) * w[8]) * ((x[3]*w[3]+x[4]*w[4]) * (math.cos(w[2]*x[2])*x[2]))\n",
    "\n",
    "  #dl/dw2\n",
    "  dw2 = data['dy_pred'] * (1 - (data['tanh'])**2) * data['exp'] * (2*x[1] * ((w[0]*x[0])+(w[1]*x[1])))\n",
    "\n",
    "  #dl/dw1\n",
    "  dw1 = data['dy_pred'] * (1 - (data['tanh'])**2) * data['exp'] * (2*x[0] * ((w[0]*x[0])+(w[1]*x[1])))\n",
    "\n",
    "  #Storing derivative values in dictionary\n",
    "  backward_dict={}\n",
    "\n",
    "  backward_dict['dw1']=dw1 \n",
    "  backward_dict['dw2']=dw2\n",
    "  backward_dict['dw3']=dw3\n",
    "  backward_dict['dw4']=dw4\n",
    "  backward_dict['dw5']=dw5\n",
    "  backward_dict['dw6']=dw6\n",
    "  backward_dict['dw7']=dw7\n",
    "  backward_dict['dw8']=dw8\n",
    "  backward_dict['dw9']=dw9\n",
    "\n",
    "  return backward_dict"
   ]
  },
  {
   "cell_type": "code",
   "execution_count": 8,
   "metadata": {
    "colab": {
     "base_uri": "https://localhost:8080/"
    },
    "id": "KMMkW-QM02NO",
    "outputId": "687313b3-33ae-4ec4-95ba-204527702e97"
   },
   "outputs": [
    {
     "data": {
      "text/plain": [
       "True"
      ]
     },
     "execution_count": 8,
     "metadata": {},
     "output_type": "execute_result"
    }
   ],
   "source": [
    "def grader_backprop(data):\n",
    "\n",
    "    dw1=(np.round(data['dw1'],4)==-0.2297)\n",
    "    dw2=(np.round(data['dw2'],4)==-0.0214)\n",
    "    dw3=(np.round(data['dw3'],4)==-0.0056)\n",
    "    dw4=(np.round(data['dw4'],4)==-0.0047)\n",
    "    dw5=(np.round(data['dw5'],4)==-0.001)\n",
    "    dw6=(np.round(data['dw6'],4)==-0.6335)\n",
    "    dw7=(np.round(data['dw7'],4)==-0.5619)\n",
    "    dw8=(np.round(data['dw8'],4)==-0.0481)\n",
    "    dw9=(np.round(data['dw9'],4)==-1.0181)\n",
    "    # print(dw1,dw2,dw3,dw4,dw5,dw6,dw7,dw8)\n",
    "    assert(dw1 and dw2 and dw3 and dw4 and dw5 and dw6 and dw7 and dw8 and dw9)\n",
    "    return True \n",
    "\n",
    "w=np.ones(9)*0.1\n",
    "d1=forward_propagation(X[0],y[0],w)\n",
    "d1=backward_propagation(X[0],w,d1)\n",
    "grader_backprop(d1)"
   ]
  },
  {
   "cell_type": "markdown",
   "metadata": {
    "id": "Lk7hAZ072Oc4"
   },
   "source": [
    "# <font color='red'>Task 1.3 </font>"
   ]
  },
  {
   "cell_type": "markdown",
   "metadata": {
    "id": "-8Ikt-252T1V"
   },
   "source": [
    "<b> Check this  <a href='https://towardsdatascience.com/how-to-debug-a-neural-network-with-gradient-checking-41deec0357a9'>blog link</a> for more details on Gradient clipping"
   ]
  },
  {
   "cell_type": "markdown",
   "metadata": {
    "id": "lgdSxMC-2e8U"
   },
   "source": [
    "## <font color='red'> Implement Gradient checking </font> <br>\n"
   ]
  },
  {
   "cell_type": "markdown",
   "metadata": {
    "id": "LJ185k6kogky"
   },
   "source": [
    "Algorithm =\n",
    "\n",
    "  1. Calculate orignal gradients Backward propagation for given weights.\n",
    "  2. Calculate loss values using\n",
    "\n",
    "      $loss1 = forwardpropagation(orignal weights + eps) $\n",
    "      \n",
    "      $loss2 = forwardpropagation(orignal weights - eps)$ \n",
    "\n",
    "   functions.\n",
    "\n",
    "  3. Calculate approx gradients using = $(loss_1 - loss_2)/(2*eps)$\n",
    "\n",
    "\n",
    "  4. Calculate Gradient \n",
    "   gradient check: <i>gradient_check</i> = \n",
    "$\\frac{\\left\\Vert\\left (dW-dW^{approx}\\rm\\right) \\right\\Vert_2}{\\left\\Vert\\left (dW\\rm\\right) \\right\\Vert_2+\\left\\Vert\\left (dW^{approx}\\rm\\right) \\right\\Vert_2}$"
   ]
  },
  {
   "cell_type": "code",
   "execution_count": 9,
   "metadata": {
    "id": "_FOlQZs1jAAd"
   },
   "outputs": [],
   "source": [
    "def gradient_checking(x,y,w,eps):\n",
    "\n",
    "    #calculating Loss using forward propa\n",
    "    L = forward_propagation(x,y,w)\n",
    "\n",
    "    #using this loss for bbackward propagation to calculate 9_dw\n",
    "    backward_dict=backward_propagation(x,w,L)\n",
    "\n",
    "    # orignal 9_dw values\n",
    "    original_gradients_list=list(backward_dict.values())\n",
    "    \n",
    "    approx_gradients = []\n",
    "    #iterating\n",
    "    for i in range(len(w)):\n",
    "\n",
    "      #adding a small value to ith weight wi and calculatting Loss\n",
    "      w[i] = w[i] + eps\n",
    "      l1 = forward_propagation(x,y,w)\n",
    "      loss1=l1['loss']\n",
    "\n",
    "      #substracting a small value to ith weight wi and calculating Loss\n",
    "      w[i] = w[i] - 2*eps    # subtracting 2*epsilon(already one epsilon is added) from each wi\n",
    "      l2 = forward_propagation(x,y,w)\n",
    "      loss2=l2['loss']\n",
    "\n",
    "      #approximate gradient values using error eps\n",
    "      aprrox_gradient = (loss1 - loss2) / (2*eps)\n",
    "      approx_gradients.append(aprrox_gradient)\n",
    "\n",
    "    #performing gradient check operation with orignal grad values calculated using Backward_propa\n",
    "    original_gradients_list=np.array(original_gradients_list)\n",
    "    approx_gradients_list=np.array(approx_gradients)\n",
    "    gradient_check_value =(original_gradients_list-approx_gradients)/(original_gradients_list+approx_gradients)\n",
    "    \n",
    "    return gradient_check_value"
   ]
  },
  {
   "cell_type": "code",
   "execution_count": 10,
   "metadata": {
    "colab": {
     "base_uri": "https://localhost:8080/"
    },
    "id": "LCLYKyhKm4hL",
    "outputId": "1fc98d8a-e970-4057-8ef6-b79b8b0c9a9e"
   },
   "outputs": [
    {
     "name": "stdout",
     "output_type": "stream",
     "text": [
      "[-1.73921918e-08  1.28741906e-05 -2.55164399e-04 -1.05871856e-05\n",
      " -1.95446016e-04 -1.16536595e-10 -9.63625495e-08 -1.06774472e-07\n",
      " -1.43339489e-08]\n"
     ]
    },
    {
     "data": {
      "text/plain": [
       "True"
      ]
     },
     "execution_count": 10,
     "metadata": {},
     "output_type": "execute_result"
    }
   ],
   "source": [
    "def grader_grad_check(value):\n",
    "    print(value)\n",
    "    assert(np.all(value <= 10**-3))\n",
    "    return True \n",
    "\n",
    "w=[ 0.00271756,  0.01260512,  0.00167639, -0.00207756,  0.00720768,\n",
    "   0.00114524,  0.00684168,  0.02242521,  0.01296444]\n",
    "\n",
    "eps=10**-7\n",
    "value= gradient_checking(X[0],y[0],w,eps)\n",
    "grader_grad_check(value)"
   ]
  },
  {
   "cell_type": "markdown",
   "metadata": {
    "id": "_3XR8mjciiJf"
   },
   "source": [
    "# <font color='red'> Task 2 : Optimizers </font>"
   ]
  },
  {
   "cell_type": "markdown",
   "metadata": {
    "id": "pJobqAHcp9WF"
   },
   "source": [
    "* As a part of this task, you will be implementing 2  optimizers(methods to update weight)\n",
    "* Use the same computational graph that was mentioned above to do this task\n",
    "* The weights have been initialized from normal distribution with mean=0 and std=0.01. The initialization of weights is very important otherwiswe you can face vanishing gradient and exploding gradients problem."
   ]
  },
  {
   "cell_type": "markdown",
   "metadata": {
    "id": "6X3DDIGMqGSJ"
   },
   "source": [
    "**Algorithm**\n",
    "\n",
    "<pre>\n",
    "    for each epoch(1-20):\n",
    "        for each data point in your data:\n",
    "            using the functions forward_propagation() and backword_propagation() compute the gradients of weights\n",
    "            update the weigts with help of gradients  \n",
    "</pre>"
   ]
  },
  {
   "cell_type": "markdown",
   "metadata": {
    "id": "S6f5TSgexmRX"
   },
   "source": [
    "### <font color='blue'>2.1 Algorithm with Vanilla update of weights</font>"
   ]
  },
  {
   "cell_type": "code",
   "execution_count": 11,
   "metadata": {
    "colab": {
     "base_uri": "https://localhost:8080/"
    },
    "id": "kA_JoHfcp_iy",
    "outputId": "f0afdb4e-7918-4129-b846-604e17f6979c"
   },
   "outputs": [
    {
     "name": "stderr",
     "output_type": "stream",
     "text": [
      "100%|██████████| 100/100 [00:02<00:00, 37.51it/s]\n"
     ]
    }
   ],
   "source": [
    "# weight initialization\n",
    "\n",
    "epochs = 100\n",
    "w =np.random.normal(0, 0.01, 9)\n",
    "eta = 0.001\n",
    "vanilla_loss = []\n",
    "\n",
    "for epoch in tqdm(range(epochs)):\n",
    " \n",
    "  for i in range(X.shape[0]):\n",
    "\n",
    "    #pre_data\n",
    "    f_dict = forward_propagation(X[i],y[i],w)\n",
    "\n",
    "    #Getting derivatives of 9_dw wrt current weights\n",
    "    dw_dict = backward_propagation(X[i],w,f_dict)\n",
    "\n",
    "    #updating weights\n",
    "    w[0] = w[0] - (eta * dw_dict['dw1'])\n",
    "    w[1] = w[1] - (eta * dw_dict['dw2'])\n",
    "    w[2] = w[2] - (eta * dw_dict['dw3'])\n",
    "    w[3] = w[3] - (eta * dw_dict['dw4'])\n",
    "    w[4] = w[4] - (eta * dw_dict['dw5'])\n",
    "    w[5] = w[5] - (eta * dw_dict['dw6'])\n",
    "    w[6] = w[6] - (eta * dw_dict['dw7'])\n",
    "    w[7] = w[7] - (eta * dw_dict['dw8'])\n",
    "    w[8] = w[8] - (eta * dw_dict['dw9'])\n",
    "  \n",
    "  vanilla_loss.append(f_dict['loss'])\n"
   ]
  },
  {
   "cell_type": "code",
   "execution_count": 12,
   "metadata": {
    "colab": {
     "base_uri": "https://localhost:8080/",
     "height": 404
    },
    "id": "o3V_uNUfu9YK",
    "outputId": "3b74a31e-98f3-4e55-c84e-ff082df988dd"
   },
   "outputs": [
    {
     "data": {
      "image/png": "[encoded data removed]",
      "text/plain": [
       "<Figure size 576x432 with 1 Axes>"
      ]
     },
     "metadata": {
      "needs_background": "light"
     },
     "output_type": "display_data"
    }
   ],
   "source": [
    "plt.figure(figsize=(8,6))\n",
    "plt.xlabel('epochs')\n",
    "plt.ylabel('Loss')\n",
    "plt.title('LOSS vs EPOCH')\n",
    "plt.plot(range(1,epochs+1),vanilla_loss)\n",
    "plt.legend(['vanilla_loss'])\n",
    "plt.show()"
   ]
  },
  {
   "cell_type": "markdown",
   "metadata": {
    "id": "FVzQW3LIxpPm"
   },
   "source": [
    "### <font color='blue'>2.2 Algorithm with Momentum update of weights</font>"
   ]
  },
  {
   "cell_type": "markdown",
   "metadata": {
    "id": "Tz0rkGIWxr7n"
   },
   "source": [
    "<img src='https://i.imgur.com/gyPSXhS.png'>"
   ]
  },
  {
   "cell_type": "code",
   "execution_count": 13,
   "metadata": {
    "colab": {
     "base_uri": "https://localhost:8080/"
    },
    "id": "AFvxcZLext20",
    "outputId": "370c3657-6222-4ae1-8377-3dcf0219b02d"
   },
   "outputs": [
    {
     "name": "stderr",
     "output_type": "stream",
     "text": [
      "100%|██████████| 100/100 [00:03<00:00, 26.26it/s]\n"
     ]
    }
   ],
   "source": [
    "#weight_initialization\n",
    "w =np.random.normal(0, 0.01, 9)\n",
    "epochs = 100\n",
    "gamma = 0.3\n",
    "eta = 0.001\n",
    "momentum_loss = []\n",
    "\n",
    "v_t = 0\n",
    "for epoch in tqdm(range(epochs)):\n",
    "\n",
    "  #Datapoint Loop\n",
    "  for i in range(X.shape[0]):\n",
    "\n",
    "    #Calling forward_propa for weights and Loss\n",
    "    f_dict = forward_propagation(X[i],y[i],w)\n",
    "\n",
    "    #Getting derivatives of 9_dw wrt current weights\n",
    "    dw_dict = backward_propagation(X[i],w,f_dict)\n",
    "    dw_list = list(dw_dict.values())\n",
    "    \n",
    "    #Weight_updation Loop\n",
    "    for j in range(len(dw_list)):\n",
    "\n",
    "      #calculating momentum\n",
    "      v_t  = (gamma*v_t) + (eta*(dw_list[j]))\n",
    "      w[j] = w[j] - v_t\n",
    "  \n",
    "  momentum_loss.append(f_dict['loss'])\n"
   ]
  },
  {
   "cell_type": "code",
   "execution_count": 14,
   "metadata": {
    "colab": {
     "base_uri": "https://localhost:8080/",
     "height": 404
    },
    "id": "ygNXlFdzAcLX",
    "outputId": "b4ebf2ae-bfe5-4298-9f43-547dfe776f67"
   },
   "outputs": [
    {
     "data": {
      "image/png": "[encoded data removed]",
      "text/plain": [
       "<Figure size 576x432 with 1 Axes>"
      ]
     },
     "metadata": {
      "needs_background": "light"
     },
     "output_type": "display_data"
    }
   ],
   "source": [
    "plt.figure(figsize=(8,6))\n",
    "plt.xlabel('epochs')\n",
    "plt.ylabel('Loss')\n",
    "plt.title('LOSS vs EPOCH')\n",
    "plt.plot(range(1,epochs+1),momentum_loss,color='r')\n",
    "plt.legend(['momentum_loss'])\n",
    "plt.show()"
   ]
  },
  {
   "cell_type": "markdown",
   "metadata": {
    "id": "0AsnGurYxucX"
   },
   "source": [
    "### <font color='blue'>2.3 Algorithm with Adam update of weights</font>"
   ]
  },
  {
   "cell_type": "markdown",
   "metadata": {
    "id": "Q0Qu5OIsHOAU"
   },
   "source": [
    "<img src='https://i.imgur.com/GDR8UFP.jpg'>"
   ]
  },
  {
   "cell_type": "code",
   "execution_count": 15,
   "metadata": {
    "colab": {
     "base_uri": "https://localhost:8080/"
    },
    "id": "Z-SccH5sxwkK",
    "outputId": "c8097578-0943-49df-93c7-340d3d4659f3"
   },
   "outputs": [
    {
     "name": "stderr",
     "output_type": "stream",
     "text": [
      "100%|██████████| 100/100 [00:06<00:00, 15.35it/s]\n"
     ]
    }
   ],
   "source": [
    "beta_1 = 0.9\n",
    "beta_2 = 0.99\n",
    "eps = 1e-8\n",
    "eta = 0.001 #learning_rate\n",
    "\n",
    "w =np.random.normal(0, 0.01, 9)\n",
    "epochs=100\n",
    "\n",
    "adam_loss = []\n",
    "epoch_list = []\n",
    "\n",
    "m = 0\n",
    "v = 0\n",
    "for epoch in tqdm(range(epochs)):\n",
    "  epoch_list.append(epoch+1)\n",
    "\n",
    "  #Datapoint Loop\n",
    "  for i in range(X.shape[0]):\n",
    "\n",
    "    #Calling forward_propa for weights and Loss\n",
    "    f_dict = forward_propagation(X[i],y[i],w)\n",
    "\n",
    "    #Getting derivatives of 9_dw wrt current weights\n",
    "    dw_dict = backward_propagation(X[i],w,f_dict)\n",
    "    dw_list = list(dw_dict.values())\n",
    "\n",
    "    #Weight updatation loop\n",
    "    for j in range(len(dw_list)):\n",
    "\n",
    "      # adaptive momentum\n",
    "      m = (beta_1*m) + (1-beta_1)*dw_list[j]\n",
    "\n",
    "      #adaptive learning rate\n",
    "      v = (beta_2*v) + (1-beta_2)* dw_list[j]**2\n",
    "\n",
    "      #correction\n",
    "      corrected_m_t = m / (1 - beta_1**(epoch+1))\n",
    "      corrected_v_t = v / (1 - beta_2**(epoch+1))\n",
    "\n",
    "      #weight_updation\n",
    "      w[j] = w[j] - ((eta * corrected_m_t) / (np.sqrt(corrected_v_t + eps)))\n",
    "\n",
    "  #calculating Loss with updated weights\n",
    "  adam_loss.append(f_dict['loss'])\n"
   ]
  },
  {
   "cell_type": "code",
   "execution_count": 16,
   "metadata": {
    "colab": {
     "base_uri": "https://localhost:8080/",
     "height": 404
    },
    "id": "TI0S2lyeHzYP",
    "outputId": "925aa362-b1bc-4a93-b800-37c90c6bd59e"
   },
   "outputs": [
    {
     "data": {
      "image/png": "[encoded data removed]",
      "text/plain": [
       "<Figure size 576x432 with 1 Axes>"
      ]
     },
     "metadata": {
      "needs_background": "light"
     },
     "output_type": "display_data"
    }
   ],
   "source": [
    "plt.figure(figsize=(8,6))\n",
    "plt.xlabel('epochs')\n",
    "plt.ylabel('Loss')\n",
    "plt.title('LOSS vs EPOCH')\n",
    "plt.plot(epoch_list,adam_loss,color='g')\n",
    "plt.legend(['adam_loss'])\n",
    "plt.show()"
   ]
  },
  {
   "cell_type": "markdown",
   "metadata": {
    "id": "47wRmJvkyQjv"
   },
   "source": [
    "# Comparision plot between epochs and loss with different optimizers"
   ]
  },
  {
   "cell_type": "code",
   "execution_count": 17,
   "metadata": {
    "colab": {
     "base_uri": "https://localhost:8080/",
     "height": 404
    },
    "id": "eBcymp2RyRRc",
    "outputId": "ef578011-d90f-40a8-b774-0738ef6051b2"
   },
   "outputs": [
    {
     "data": {
      "image/png": "[encoded data removed]",
      "text/plain": [
       "<Figure size 576x432 with 1 Axes>"
      ]
     },
     "metadata": {
      "needs_background": "light"
     },
     "output_type": "display_data"
    }
   ],
   "source": [
    "plt.figure(figsize=(8,6))\n",
    "plt.xlabel('epochs')\n",
    "plt.ylabel('loss')\n",
    "plt.title('LOSS vs EPOCH')\n",
    "plt.plot(vanilla_loss)\n",
    "plt.plot(momentum_loss)\n",
    "plt.plot(adam_loss)\n",
    "plt.legend(['vanilla_loss','momentum_loss','adam_loss'])\n",
    "plt.show()"
   ]
  },
  {
   "cell_type": "markdown",
   "metadata": {
    "id": "WPd3CR2RN2ty"
   },
   "source": [
    "## **Conclusion**\n",
    "\n",
    "  - ADAM SGD is coverging within 7 epochs. Rest all are taking about 70+ epochs.\n",
    "   - ADAM is BEST in this case."
   ]
  }
 ],
 "metadata": {
  "colab": {
   "collapsed_sections": [],
   "name": "BackPropagation_Akshay.ipynb",
   "provenance": []
  },
  "kernelspec": {
   "display_name": "Python 3",
   "language": "python",
   "name": "python3"
  },
  "language_info": {
   "codemirror_mode": {
    "name": "ipython",
    "version": 3
   },
   "file_extension": ".py",
   "mimetype": "text/x-python",
   "name": "python",
   "nbconvert_exporter": "python",
   "pygments_lexer": "ipython3",
   "version": "3.9.2"
  },
  "toc": {
   "base_numbering": 1,
   "nav_menu": {},
   "number_sections": true,
   "sideBar": true,
   "skip_h1_title": false,
   "title_cell": "Table of Contents",
   "title_sidebar": "Contents",
   "toc_cell": false,
   "toc_position": {},
   "toc_section_display": true,
   "toc_window_display": false
  }
 },
 "nbformat": 4,
 "nbformat_minor": 1
}
